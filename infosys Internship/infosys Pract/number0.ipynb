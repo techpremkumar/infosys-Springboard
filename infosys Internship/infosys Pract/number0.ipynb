{
 "cells": [
  {
   "cell_type": "code",
   "execution_count": 8,
   "id": "0af75013-8217-4be5-83ce-284899d8b98b",
   "metadata": {},
   "outputs": [
    {
     "name": "stdout",
     "output_type": "stream",
     "text": [
      "Output: Kumar Ravi Patel\n"
     ]
    }
   ],
   "source": [
    "def swap():\n",
    "    s = \"Ravi Kumar Patel\"\n",
    "    p = s.split()\n",
    "    o = f\"{p[1]} {p[0]} {p[2]}\"\n",
    "    print(\"Output:\", o)\n",
    "swap()"
   ]
  },
  {
   "cell_type": "code",
   "execution_count": 12,
   "id": "4678e09b-8c6a-46b0-9466-d3f9c57aa219",
   "metadata": {},
   "outputs": [
    {
     "name": "stdout",
     "output_type": "stream",
     "text": [
      "Max number: 99\n"
     ]
    }
   ],
   "source": [
    "def max_num():\n",
    "    nums = [87, 43, 76, 1, 99, 23, 8]\n",
    "    m = nums[0]\n",
    "    for n in nums:\n",
    "        if n > m:\n",
    "            m = n\n",
    "    print(\"Max number:\", m)\n",
    "max_num()"
   ]
  },
  {
   "cell_type": "code",
   "execution_count": 14,
   "id": "8891a846-549c-40b3-8bdd-d7aeefad2fc1",
   "metadata": {},
   "outputs": [
    {
     "name": "stdout",
     "output_type": "stream",
     "text": [
      "g=2\n",
      "o=2\n",
      "l=1\n",
      "e=1\n"
     ]
    }
   ],
   "source": [
    "def char_count():\n",
    "    s = \"google\"\n",
    "    c = {}\n",
    "    for ch in s:\n",
    "        if ch in c:\n",
    "            c[ch] += 1\n",
    "        else:\n",
    "            c[ch] = 1\n",
    "    for ch, cnt in c.items():\n",
    "        print(f\"{ch}={cnt}\")\n",
    "char_count()"
   ]
  },
  {
   "cell_type": "code",
   "execution_count": 18,
   "id": "e899d0fb-ace9-4c1b-9d03-3d273a7d5961",
   "metadata": {},
   "outputs": [
    {
     "name": "stdout",
     "output_type": "stream",
     "text": [
      "[7, 14, 21, 28, 35, 42, 49, 56, 63, 70, 77, 84, 91, 98, 105, 112, 119, 126, 133, 140, 147, 154, 161, 168, 175, 182, 189, 196, 203, 210, 217, 224, 231, 238, 245, 252, 259, 266, 273, 280, 287, 294, 301, 308, 315, 322, 329, 336, 343, 350, 357, 364, 371, 378, 385, 392, 399, 406, 413, 420, 427, 434, 441, 448, 455, 462, 469, 476, 483, 490, 497, 504, 511, 518, 525, 532, 539, 546, 553, 560, 567, 574, 581, 588, 595, 602, 609, 616, 623, 630, 637, 644, 651, 658, 665, 672, 679, 686, 693, 700, 707, 714, 721, 728, 735, 742, 749, 756, 763, 770, 777, 784, 791, 798, 805, 812, 819, 826, 833, 840, 847, 854, 861, 868, 875, 882, 889, 896, 903, 910, 917, 924, 931, 938, 945, 952, 959, 966, 973, 980, 987, 994]\n"
     ]
    }
   ],
   "source": [
    "def div_by_7():\n",
    "    res = [n for n in range(1, 1001) if n % 7 == 0]\n",
    "    print(res)\n",
    "div_by_7()"
   ]
  },
  {
   "cell_type": "code",
   "execution_count": 20,
   "id": "76b8b1e2-9e2e-4058-8446-c4fcdbc00052",
   "metadata": {},
   "outputs": [
    {
     "name": "stdout",
     "output_type": "stream",
     "text": [
      "['odd', 'even', 'even', 'even', 'odd', 'odd', 'even']\n"
     ]
    }
   ],
   "source": [
    "def even_odd():\n",
    "    lst = [75, 8, 94, 2, 23, 29, 100]\n",
    "    o = [\"even\" if n % 2 == 0 else \"odd\" for n in lst]\n",
    "    print(o)\n",
    "even_odd()"
   ]
  },
  {
   "cell_type": "code",
   "execution_count": 22,
   "id": "8d017286-b179-4c92-9310-852f9638b1f9",
   "metadata": {},
   "outputs": [
    {
     "name": "stdout",
     "output_type": "stream",
     "text": [
      "[1, 9, 10]\n"
     ]
    }
   ],
   "source": [
    "def extract_nums():\n",
    "    s = 'hello 1 hi 9 . How are 10'\n",
    "    nums = [int(w) for w in s.split() if w.isdigit()]\n",
    "    print(nums)\n",
    "extract_nums()"
   ]
  },
  {
   "cell_type": "code",
   "execution_count": 24,
   "id": "a2c0947d-fa93-4cca-9a9f-19e7f307ae87",
   "metadata": {},
   "outputs": [
    {
     "name": "stdout",
     "output_type": "stream",
     "text": [
      "correct\n"
     ]
    }
   ],
   "source": [
    "def valid_email():\n",
    "    e = \"xyz@gmail.com\"\n",
    "    if \"@\" in e and \".\" in e.split(\"@\")[1]:\n",
    "        print(\"correct\")\n",
    "    else:\n",
    "        print(\"incorrect\")\n",
    "valid_email()"
   ]
  },
  {
   "cell_type": "code",
   "execution_count": 26,
   "id": "7345e1da-d11b-439a-9a2b-840c5dadb5ce",
   "metadata": {},
   "outputs": [
    {
     "name": "stdout",
     "output_type": "stream",
     "text": [
      "HelloWorld!Howareyou?\n"
     ]
    }
   ],
   "source": [
    "def rm_whitespace():\n",
    "    s = \"Hello World! How are you?\"\n",
    "    print(s.replace(\" \", \"\"))\n",
    "rm_whitespace()"
   ]
  },
  {
   "cell_type": "code",
   "execution_count": 28,
   "id": "23c8056e-4991-4b46-ab9f-7b2358a21edd",
   "metadata": {},
   "outputs": [
    {
     "name": "stdout",
     "output_type": "stream",
     "text": [
      "1275\n"
     ]
    }
   ],
   "source": [
    "def sum_nums():\n",
    "    t = sum(range(1, 51))\n",
    "    print(t)\n",
    "sum_nums()"
   ]
  },
  {
   "cell_type": "code",
   "execution_count": 30,
   "id": "01c69366-524e-467c-b6ed-193bbe60304f",
   "metadata": {},
   "outputs": [
    {
     "name": "stdout",
     "output_type": "stream",
     "text": [
      "True\n"
     ]
    }
   ],
   "source": [
    "def is_alnum():\n",
    "    s = \"abc123\"\n",
    "    print(s.isalnum())\n",
    "is_alnum()"
   ]
  },
  {
   "cell_type": "code",
   "execution_count": null,
   "id": "f9c05b71-d63d-4d30-ab89-bfc9bbd0f61c",
   "metadata": {},
   "outputs": [],
   "source": []
  }
 ],
 "metadata": {
  "kernelspec": {
   "display_name": "Python 3 (ipykernel)",
   "language": "python",
   "name": "python3"
  },
  "language_info": {
   "codemirror_mode": {
    "name": "ipython",
    "version": 3
   },
   "file_extension": ".py",
   "mimetype": "text/x-python",
   "name": "python",
   "nbconvert_exporter": "python",
   "pygments_lexer": "ipython3",
   "version": "3.12.7"
  }
 },
 "nbformat": 4,
 "nbformat_minor": 5
}
