{
 "cells": [
  {
   "cell_type": "code",
   "execution_count": 1,
   "id": "7ed4884d-8555-41b9-91a2-6318a89af938",
   "metadata": {},
   "outputs": [
    {
     "name": "stdin",
     "output_type": "stream",
     "text": [
      "Enter text to translate (or 'quit' to exit):  hello, i am French\n"
     ]
    },
    {
     "data": {
      "text/plain": [
       "'\"Buenos días, soy francés\"\\n\\nHere\\'s a breakdown of the translation:\\n\\n* \"Hello\" is translated to \"Buenos días\" (informal) or \"Buenas tardes\" (formal) depending on the time of day.\\n* \"I am\" is translated to \"Soy\".\\n* \"French\" is translated to \"francés\" (masculine) or \"francesa\" (feminine).'"
      ]
     },
     "execution_count": 1,
     "metadata": {},
     "output_type": "execute_result"
    }
   ],
   "source": [
    "import requests\n",
    "\n",
    "def translate_text(text, model=\"llama3.2\"):\n",
    "    url = \"http://localhost:11434/api/generate\"\n",
    "    prompt = f\"Translate the following English text to Spanish: '{text}'\\n\\nSpanish translation:\"\n",
    "    \n",
    "    payload = {\n",
    "        \"model\": model,\n",
    "        \"prompt\": prompt,\n",
    "        \"stream\": False\n",
    "    }\n",
    "    \n",
    "    try:\n",
    "        response = requests.post(url, json=payload)\n",
    "        response.raise_for_status()\n",
    "        return response.json()[\"response\"].strip()\n",
    "    except requests.exceptions.RequestException as e:\n",
    "        return f\"Translation failed: {str(e)}\"\n",
    "\n",
    "def get_translation_input():\n",
    "    text = input(\"Enter text to translate (or 'quit' to exit): \")\n",
    "    if text.lower() == 'quit':\n",
    "        return None\n",
    "    \n",
    "    translation = translate_text(text)\n",
    "    return translation\n",
    "\n",
    "get_translation_input()\n"
   ]
  }
 ],
 "metadata": {
  "kernelspec": {
   "display_name": "Python 3 (ipykernel)",
   "language": "python",
   "name": "python3"
  },
  "language_info": {
   "codemirror_mode": {
    "name": "ipython",
    "version": 3
   },
   "file_extension": ".py",
   "mimetype": "text/x-python",
   "name": "python",
   "nbconvert_exporter": "python",
   "pygments_lexer": "ipython3",
   "version": "3.12.3"
  }
 },
 "nbformat": 4,
 "nbformat_minor": 5
}
